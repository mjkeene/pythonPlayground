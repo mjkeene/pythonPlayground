{
 "cells": [
  {
   "cell_type": "code",
   "execution_count": 62,
   "metadata": {
    "scrolled": true
   },
   "outputs": [
    {
     "name": "stdout",
     "output_type": "stream",
     "text": [
      "Enter two integers: 234 432\n"
     ]
    },
    {
     "data": {
      "text/plain": [
       "'The GCD is: 18'"
      ]
     },
     "execution_count": 62,
     "metadata": {},
     "output_type": "execute_result"
    }
   ],
   "source": [
    "def gcd():\n",
    "    nums = input('Enter two integers: ')\n",
    "    nums = list(nums.split(\" \"))\n",
    "    nums = map(int, nums)\n",
    "    a, b = nums\n",
    "\n",
    "    greatest_a = []\n",
    "    greatest_b = []\n",
    "    for i in range(1, a+1):\n",
    "        if a % i == 0:\n",
    "            greatest_a.append(i)\n",
    "    for i in range(1, b+1):\n",
    "        if b % i == 0:\n",
    "            greatest_b.append(i)\n",
    "            \n",
    "    gcd = max(set(greatest_a) & set(greatest_b))\n",
    "    return \"The GCD is: \" + str(gcd)\n",
    "\n",
    "gcd()"
   ]
  }
 ],
 "metadata": {
  "kernelspec": {
   "display_name": "Python 3",
   "language": "python",
   "name": "python3"
  },
  "language_info": {
   "codemirror_mode": {
    "name": "ipython",
    "version": 3
   },
   "file_extension": ".py",
   "mimetype": "text/x-python",
   "name": "python",
   "nbconvert_exporter": "python",
   "pygments_lexer": "ipython3",
   "version": "3.6.8"
  }
 },
 "nbformat": 4,
 "nbformat_minor": 2
}
