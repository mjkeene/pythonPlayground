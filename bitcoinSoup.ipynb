{
 "cells": [
  {
   "cell_type": "code",
   "execution_count": 41,
   "metadata": {},
   "outputs": [],
   "source": [
    "import requests\n",
    "from bs4 import BeautifulSoup\n",
    "import time\n",
    "import datetime\n",
    "\n",
    "# URL = 'https://www.coindesk.com/price/bitcoin'\n",
    "URL = 'https://api.coindesk.com/v1/bpi/currentprice.json'\n",
    "HEADERS = {'User-Agent' : 'Mozilla/5.0 (Windows NT 10.0; Win64; x64) AppleWebKit/537.36 (KHTML, like Gecko) Chrome/71.0.3578.98 Safari/537.36'}   \n",
    "\n",
    "def fetchPrice(url):\n",
    "    r = requests.get(URL, headers=HEADERS)\n",
    "    return r.json()\n",
    "\n",
    "# print(soup.title)"
   ]
  },
  {
   "cell_type": "code",
   "execution_count": 36,
   "metadata": {},
   "outputs": [],
   "source": [
    "# print(soup.price)"
   ]
  },
  {
   "cell_type": "code",
   "execution_count": 37,
   "metadata": {},
   "outputs": [],
   "source": [
    "def getPrice(json):\n",
    "    price = json['bpi']['USD']['rate_float']\n",
    "    return price\n",
    "    \n",
    "#     tag = soupHtml.find('div', {'class': 'price-large'})\n",
    "#     str_price = str(list(tag)[1])\n",
    "#     return str_price"
   ]
  },
  {
   "cell_type": "code",
   "execution_count": 4,
   "metadata": {},
   "outputs": [],
   "source": [
    "# getPrice(soup)"
   ]
  },
  {
   "cell_type": "code",
   "execution_count": 5,
   "metadata": {},
   "outputs": [],
   "source": [
    "# soup.find_all('div');"
   ]
  },
  {
   "cell_type": "code",
   "execution_count": 55,
   "metadata": {},
   "outputs": [
    {
     "name": "stdout",
     "output_type": "stream",
     "text": [
      "Call number: 1\n",
      "Price: 59178.072\n",
      "\n",
      "Call number: 2\n",
      "Price: 59180.415\n",
      "\n",
      "Call number: 3\n",
      "Price: 59180.415\n",
      "\n",
      "Call number: 4\n",
      "Price: 59174.8655\n",
      "\n",
      "Call number: 5\n",
      "Price: 59174.8655\n",
      "\n",
      "Call number: 6\n",
      "Price: 59189.9517\n",
      "\n",
      "Call number: 7\n",
      "Price: 59189.9517\n",
      "\n",
      "Call number: 8\n",
      "Price: 59189.9517\n",
      "\n",
      "Call number: 9\n",
      "Price: 59174.8655\n",
      "\n",
      "Call number: 10\n",
      "Price: 59309.0267\n",
      "\n",
      "Call number: 11\n",
      "Price: 59309.0267\n",
      "\n",
      "Call number: 12\n",
      "Price: 59246.0779\n",
      "\n",
      "Call number: 13\n",
      "Price: 59246.0779\n",
      "\n",
      "Call number: 14\n",
      "Price: 59207.9483\n",
      "\n",
      "Call number: 15\n",
      "Price: 59207.9483\n",
      "\n",
      "Call number: 16\n",
      "Price: 59193.6449\n",
      "\n",
      "Call number: 17\n",
      "Price: 59193.6449\n",
      "\n",
      "Call number: 18\n",
      "Price: 59253.945\n",
      "\n",
      "Call number: 19\n",
      "Price: 59253.945\n",
      "\n",
      "Call number: 20\n",
      "Price: 59286.7904\n",
      "\n",
      "Call number: 21\n",
      "Price: 59286.7904\n",
      "\n",
      "Call number: 22\n",
      "Price: 59267.7617\n",
      "\n",
      "Call number: 23\n",
      "Price: 59267.7617\n",
      "\n",
      "Call number: 24\n",
      "Price: 59222.712\n",
      "\n",
      "Call number: 25\n",
      "Price: 59222.712\n",
      "\n",
      "Call number: 26\n",
      "Price: 59209.625\n",
      "\n",
      "Call number: 27\n",
      "Price: 59209.625\n",
      "\n",
      "Call number: 28\n",
      "Price: 59166.8515\n",
      "\n",
      "Call number: 29\n",
      "Price: 59166.8515\n",
      "\n",
      "Call number: 30\n",
      "Price: 59146.97\n",
      "\n",
      "Call number: 31\n",
      "Price: 59146.97\n",
      "\n",
      "Call number: 32\n",
      "Price: 59076.435\n",
      "\n",
      "Call number: 33\n",
      "Price: 59076.435\n",
      "\n",
      "Call number: 34\n",
      "Price: 59041.8617\n",
      "\n",
      "Call number: 35\n",
      "Price: 59117.4961\n",
      "\n",
      "Call number: 36\n",
      "Price: 59117.4961\n",
      "\n",
      "Call number: 37\n",
      "Price: 59142.9267\n",
      "\n",
      "Call number: 38\n",
      "Price: 59142.9267\n",
      "\n",
      "Call number: 39\n",
      "Price: 59134.6856\n",
      "\n",
      "Call number: 40\n",
      "Price: 59134.6856\n",
      "\n",
      "Call number: 41\n",
      "Price: 59180.5283\n",
      "\n",
      "Call number: 42\n",
      "Price: 59180.5283\n",
      "\n",
      "Call number: 43\n",
      "Price: 59140.0815\n",
      "\n",
      "Call number: 44\n",
      "Price: 59140.0815\n",
      "\n",
      "Call number: 45\n",
      "Price: 59124.7533\n",
      "\n",
      "Call number: 46\n",
      "Price: 59124.7533\n",
      "\n",
      "Call number: 47\n",
      "Price: 59097.7553\n",
      "\n",
      "Call number: 48\n",
      "Price: 59097.7553\n",
      "\n",
      "Call number: 49\n",
      "Price: 59139.905\n",
      "\n",
      "Call number: 50\n",
      "Price: 59139.905\n",
      "\n",
      "Call number: 51\n",
      "Price: 59140.8834\n",
      "\n",
      "Call number: 52\n",
      "Price: 59140.8834\n",
      "\n",
      "Call number: 53\n",
      "Price: 59136.375\n",
      "\n",
      "Call number: 54\n",
      "Price: 59136.375\n",
      "\n",
      "Call number: 55\n",
      "Price: 59088.5498\n",
      "\n",
      "Call number: 56\n",
      "Price: 59088.5498\n",
      "\n",
      "Call number: 57\n",
      "Price: 59082.0817\n",
      "\n",
      "Call number: 58\n",
      "Price: 59082.0817\n",
      "\n",
      "Call number: 59\n",
      "Price: 59078.9346\n",
      "\n",
      "Call number: 60\n",
      "Price: 59078.9346\n",
      "\n",
      "done\n"
     ]
    }
   ],
   "source": [
    "# run every 15 seconds\n",
    "c = 0\n",
    "historical_prices = []\n",
    "while c < 60:\n",
    "    c += 1\n",
    "    now = datetime.datetime.now().strftime('%m-%d-%Y %H:%M:%S')\n",
    "    content = fetchPrice(URL)\n",
    "    price = getPrice(content)\n",
    "    print(f'Call number: {c}\\nPrice: {price}\\n')\n",
    "    historical_prices.append((now, price))\n",
    "    time.sleep(15)\n",
    "print('done')"
   ]
  },
  {
   "cell_type": "code",
   "execution_count": 68,
   "metadata": {},
   "outputs": [
    {
     "data": {
      "text/plain": [
       "[<matplotlib.lines.Line2D at 0x124a36a10>]"
      ]
     },
     "execution_count": 68,
     "metadata": {},
     "output_type": "execute_result"
    },
    {
     "data": {
      "image/png": "[encoded data removed]",
      "text/plain": [
       "<Figure size 432x288 with 1 Axes>"
      ]
     },
     "metadata": {
      "needs_background": "light"
     },
     "output_type": "display_data"
    }
   ],
   "source": [
    "import matplotlib.pyplot as plt\n",
    "\n",
    "times = [i[0] for i in historical_prices]\n",
    "prices = [i[1] for i in historical_prices]\n",
    "\n",
    "plt.plot(times, prices, 'go--')"
   ]
  },
  {
   "cell_type": "code",
   "execution_count": 57,
   "metadata": {},
   "outputs": [
    {
     "data": {
      "text/plain": [
       "267.1650000000009"
      ]
     },
     "execution_count": 57,
     "metadata": {},
     "output_type": "execute_result"
    }
   ],
   "source": [
    "max(prices) - min(prices)"
   ]
  },
  {
   "cell_type": "code",
   "execution_count": 69,
   "metadata": {},
   "outputs": [
    {
     "data": {
      "text/plain": [
       "[('03-17-2021 18:22:08', 59178.072),\n",
       " ('03-17-2021 18:22:23', 59180.415),\n",
       " ('03-17-2021 18:22:38', 59180.415),\n",
       " ('03-17-2021 18:22:53', 59174.8655),\n",
       " ('03-17-2021 18:23:09', 59174.8655),\n",
       " ('03-17-2021 18:23:24', 59189.9517),\n",
       " ('03-17-2021 18:23:39', 59189.9517),\n",
       " ('03-17-2021 18:23:54', 59189.9517),\n",
       " ('03-17-2021 18:24:09', 59174.8655),\n",
       " ('03-17-2021 18:24:24', 59309.0267),\n",
       " ('03-17-2021 18:24:40', 59309.0267),\n",
       " ('03-17-2021 18:24:55', 59246.0779),\n",
       " ('03-17-2021 18:25:10', 59246.0779),\n",
       " ('03-17-2021 18:25:25', 59207.9483),\n",
       " ('03-17-2021 18:25:40', 59207.9483),\n",
       " ('03-17-2021 18:25:55', 59193.6449),\n",
       " ('03-17-2021 18:26:10', 59193.6449),\n",
       " ('03-17-2021 18:26:26', 59253.945),\n",
       " ('03-17-2021 18:26:41', 59253.945),\n",
       " ('03-17-2021 18:26:56', 59286.7904),\n",
       " ('03-17-2021 18:27:11', 59286.7904),\n",
       " ('03-17-2021 18:27:26', 59267.7617),\n",
       " ('03-17-2021 18:27:41', 59267.7617),\n",
       " ('03-17-2021 18:27:56', 59222.712),\n",
       " ('03-17-2021 18:28:12', 59222.712),\n",
       " ('03-17-2021 18:28:27', 59209.625),\n",
       " ('03-17-2021 18:28:42', 59209.625),\n",
       " ('03-17-2021 18:28:57', 59166.8515),\n",
       " ('03-17-2021 18:29:12', 59166.8515),\n",
       " ('03-17-2021 18:29:28', 59146.97),\n",
       " ('03-17-2021 18:29:43', 59146.97),\n",
       " ('03-17-2021 18:29:58', 59076.435),\n",
       " ('03-17-2021 18:30:13', 59076.435),\n",
       " ('03-17-2021 18:30:28', 59041.8617),\n",
       " ('03-17-2021 18:30:43', 59117.4961),\n",
       " ('03-17-2021 18:30:59', 59117.4961),\n",
       " ('03-17-2021 18:31:14', 59142.9267),\n",
       " ('03-17-2021 18:31:29', 59142.9267),\n",
       " ('03-17-2021 18:31:45', 59134.6856),\n",
       " ('03-17-2021 18:32:00', 59134.6856),\n",
       " ('03-17-2021 18:32:15', 59180.5283),\n",
       " ('03-17-2021 18:32:30', 59180.5283),\n",
       " ('03-17-2021 18:32:45', 59140.0815),\n",
       " ('03-17-2021 18:33:00', 59140.0815),\n",
       " ('03-17-2021 18:33:15', 59124.7533),\n",
       " ('03-17-2021 18:33:31', 59124.7533),\n",
       " ('03-17-2021 18:33:46', 59097.7553),\n",
       " ('03-17-2021 18:34:01', 59097.7553),\n",
       " ('03-17-2021 18:34:16', 59139.905),\n",
       " ('03-17-2021 18:34:31', 59139.905),\n",
       " ('03-17-2021 18:34:46', 59140.8834),\n",
       " ('03-17-2021 18:35:01', 59140.8834),\n",
       " ('03-17-2021 18:35:17', 59136.375),\n",
       " ('03-17-2021 18:35:32', 59136.375),\n",
       " ('03-17-2021 18:35:47', 59088.5498),\n",
       " ('03-17-2021 18:36:02', 59088.5498),\n",
       " ('03-17-2021 18:36:17', 59082.0817),\n",
       " ('03-17-2021 18:36:32', 59082.0817),\n",
       " ('03-17-2021 18:36:47', 59078.9346),\n",
       " ('03-17-2021 18:37:03', 59078.9346)]"
      ]
     },
     "execution_count": 69,
     "metadata": {},
     "output_type": "execute_result"
    }
   ],
   "source": [
    "# session = requests.Session()\n",
    "# session.headers.update(HEADERS)\n",
    "historical_prices"
   ]
  },
  {
   "cell_type": "code",
   "execution_count": 34,
   "metadata": {},
   "outputs": [
    {
     "data": {
      "text/plain": [
       "59069.8565"
      ]
     },
     "execution_count": 34,
     "metadata": {},
     "output_type": "execute_result"
    }
   ],
   "source": [
    "# r = session.get('https://api.coindesk.com/v1/bpi/currentprice.json')\n",
    "# r.json()['bpi']['USD']['rate_float']\n",
    "# soup = BeautifulSoup(r.text, 'html.parser')\n",
    "# soup.find('div', {'class': 'price-large'})"
   ]
  },
  {
   "cell_type": "code",
   "execution_count": 45,
   "metadata": {},
   "outputs": [
    {
     "data": {
      "text/plain": [
       "'03-17-2021 18:17:32'"
      ]
     },
     "execution_count": 45,
     "metadata": {},
     "output_type": "execute_result"
    }
   ],
   "source": [
    "datetime.datetime.now().strftime('%m-%d-%Y %H:%M:%S')"
   ]
  },
  {
   "cell_type": "code",
   "execution_count": null,
   "metadata": {},
   "outputs": [],
   "source": []
  },
  {
   "cell_type": "code",
   "execution_count": null,
   "metadata": {},
   "outputs": [],
   "source": []
  },
  {
   "cell_type": "code",
   "execution_count": 15,
   "metadata": {},
   "outputs": [
    {
     "data": {
      "text/plain": [
       "'59,067.36'"
      ]
     },
     "execution_count": 15,
     "metadata": {},
     "output_type": "execute_result"
    }
   ],
   "source": [
    "t = soup.find('div', {'class': 'price-large'})\n",
    "list(t)[1]"
   ]
  },
  {
   "cell_type": "code",
   "execution_count": 25,
   "metadata": {},
   "outputs": [
    {
     "data": {
      "text/plain": [
       "'59067.36'"
      ]
     },
     "execution_count": 25,
     "metadata": {},
     "output_type": "execute_result"
    }
   ],
   "source": [
    "price = str(list(t)[1])\n",
    "price = price.replace(',', '')\n",
    "price"
   ]
  },
  {
   "cell_type": "code",
   "execution_count": 26,
   "metadata": {},
   "outputs": [
    {
     "data": {
      "text/plain": [
       "59067.36"
      ]
     },
     "execution_count": 26,
     "metadata": {},
     "output_type": "execute_result"
    }
   ],
   "source": [
    "float_price = float(price)\n",
    "float_price"
   ]
  },
  {
   "cell_type": "code",
   "execution_count": null,
   "metadata": {},
   "outputs": [],
   "source": []
  }
 ],
 "metadata": {
  "kernelspec": {
   "display_name": "Python 3",
   "language": "python",
   "name": "python3"
  },
  "language_info": {
   "codemirror_mode": {
    "name": "ipython",
    "version": 3
   },
   "file_extension": ".py",
   "mimetype": "text/x-python",
   "name": "python",
   "nbconvert_exporter": "python",
   "pygments_lexer": "ipython3",
   "version": "3.7.4"
  }
 },
 "nbformat": 4,
 "nbformat_minor": 2
}
