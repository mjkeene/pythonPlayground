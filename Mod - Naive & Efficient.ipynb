{
 "cells": [
  {
   "cell_type": "code",
   "execution_count": 1,
   "metadata": {},
   "outputs": [
    {
     "name": "stdout",
     "output_type": "stream",
     "text": [
      "1\n",
      "Duration: 28.111693143844604 seconds\n"
     ]
    }
   ],
   "source": [
    "import time\n",
    "\n",
    "def mod_naive(x, a):\n",
    "    while x - a >= 0:\n",
    "        x = x - a\n",
    "    return x\n",
    "\n",
    "t0 = time.time()\n",
    "print(mod_naive(1000000000,3))\n",
    "t1 = time.time()\n",
    "duration = t1 - t0\n",
    "print(\"Duration:\", duration, \"seconds\")"
   ]
  },
  {
   "cell_type": "code",
   "execution_count": 2,
   "metadata": {},
   "outputs": [
    {
     "name": "stdout",
     "output_type": "stream",
     "text": [
      "1\n",
      "Duration: 0.00010609626770019531 seconds\n"
     ]
    }
   ],
   "source": [
    "def mod_efficient(num, div):\n",
    "    step = num // div\n",
    "    result = num - (div * step)\n",
    "    return result\n",
    "\n",
    "t0 = time.time()\n",
    "print(mod_efficient(1000000000,3))\n",
    "t1 = time.time()\n",
    "duration = t1 - t0\n",
    "print(\"Duration:\", duration, \"seconds\")"
   ]
  },
  {
   "cell_type": "code",
   "execution_count": null,
   "metadata": {},
   "outputs": [],
   "source": []
  }
 ],
 "metadata": {
  "kernelspec": {
   "display_name": "Python 3",
   "language": "python",
   "name": "python3"
  },
  "language_info": {
   "codemirror_mode": {
    "name": "ipython",
    "version": 3
   },
   "file_extension": ".py",
   "mimetype": "text/x-python",
   "name": "python",
   "nbconvert_exporter": "python",
   "pygments_lexer": "ipython3",
   "version": "3.6.8"
  }
 },
 "nbformat": 4,
 "nbformat_minor": 2
}
