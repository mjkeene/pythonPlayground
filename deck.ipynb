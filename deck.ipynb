{
 "cells": [
  {
   "cell_type": "code",
   "execution_count": 1,
   "metadata": {},
   "outputs": [],
   "source": [
    "# Create a deck of cards\n",
    "\n",
    "import collections\n",
    "\n",
    "Card = collections.namedtuple('Card', ['rank', 'suit'])\n",
    "\n",
    "class FrenchDeck:\n",
    "    ranks = [str(n) for n in range(2, 11)] + list('JQKA')\n",
    "    suits = 'spades diamonds clubs hearts'.split(\" \")\n",
    "    \n",
    "    def __init__(self):\n",
    "        self._cards = [Card(rank, suit) for suit in self.suits\n",
    "                                        for rank in self.ranks]\n",
    "\n",
    "    def __len__(self):\n",
    "        return len(self._cards)\n",
    "    \n",
    "    def __getitem__(self, position):\n",
    "        return self._cards[position]\n",
    "    \n",
    "    def __repr__(self):\n",
    "        return \"A standard deck of cards.\"\n"
   ]
  },
  {
   "cell_type": "code",
   "execution_count": 2,
   "metadata": {},
   "outputs": [],
   "source": [
    "deck = FrenchDeck()"
   ]
  },
  {
   "cell_type": "code",
   "execution_count": 3,
   "metadata": {},
   "outputs": [
    {
     "data": {
      "text/plain": [
       "A standard deck of cards."
      ]
     },
     "execution_count": 3,
     "metadata": {},
     "output_type": "execute_result"
    }
   ],
   "source": [
    "deck"
   ]
  },
  {
   "cell_type": "code",
   "execution_count": 4,
   "metadata": {},
   "outputs": [
    {
     "data": {
      "text/plain": [
       "52"
      ]
     },
     "execution_count": 4,
     "metadata": {},
     "output_type": "execute_result"
    }
   ],
   "source": [
    "# The deck responds to the len() function, returning the number of cards\n",
    "len(deck)"
   ]
  },
  {
   "cell_type": "code",
   "execution_count": 5,
   "metadata": {},
   "outputs": [
    {
     "data": {
      "text/plain": [
       "Card(rank='2', suit='spades')"
      ]
     },
     "execution_count": 5,
     "metadata": {},
     "output_type": "execute_result"
    }
   ],
   "source": [
    "# The __getitem__ method allows for indexing\n",
    "deck[0]"
   ]
  },
  {
   "cell_type": "code",
   "execution_count": 6,
   "metadata": {},
   "outputs": [
    {
     "data": {
      "text/plain": [
       "Card(rank='A', suit='hearts')"
      ]
     },
     "execution_count": 6,
     "metadata": {},
     "output_type": "execute_result"
    }
   ],
   "source": [
    "deck[-1]"
   ]
  },
  {
   "cell_type": "code",
   "execution_count": 7,
   "metadata": {},
   "outputs": [],
   "source": [
    "from random import choice"
   ]
  },
  {
   "cell_type": "code",
   "execution_count": 8,
   "metadata": {},
   "outputs": [
    {
     "data": {
      "text/plain": [
       "Card(rank='Q', suit='spades')"
      ]
     },
     "execution_count": 8,
     "metadata": {},
     "output_type": "execute_result"
    }
   ],
   "source": [
    "# Get a random item from the deck instance.\n",
    "choice(deck)"
   ]
  },
  {
   "cell_type": "code",
   "execution_count": 9,
   "metadata": {},
   "outputs": [
    {
     "data": {
      "text/plain": [
       "Card(rank='5', suit='clubs')"
      ]
     },
     "execution_count": 9,
     "metadata": {},
     "output_type": "execute_result"
    }
   ],
   "source": [
    "choice(deck)"
   ]
  },
  {
   "cell_type": "code",
   "execution_count": 10,
   "metadata": {},
   "outputs": [
    {
     "data": {
      "text/plain": [
       "[Card(rank='2', suit='spades'),\n",
       " Card(rank='3', suit='spades'),\n",
       " Card(rank='4', suit='spades')]"
      ]
     },
     "execution_count": 10,
     "metadata": {},
     "output_type": "execute_result"
    }
   ],
   "source": [
    "# The __getitem__ method also allows for slicing\n",
    "deck[:3]"
   ]
  },
  {
   "cell_type": "code",
   "execution_count": 11,
   "metadata": {},
   "outputs": [
    {
     "data": {
      "text/plain": [
       "[Card(rank='A', suit='spades'),\n",
       " Card(rank='A', suit='diamonds'),\n",
       " Card(rank='A', suit='clubs'),\n",
       " Card(rank='A', suit='hearts')]"
      ]
     },
     "execution_count": 11,
     "metadata": {},
     "output_type": "execute_result"
    }
   ],
   "source": [
    "deck[12::13]"
   ]
  },
  {
   "cell_type": "code",
   "execution_count": 12,
   "metadata": {},
   "outputs": [
    {
     "name": "stdout",
     "output_type": "stream",
     "text": [
      "Card(rank='2', suit='spades')\n",
      "Card(rank='3', suit='spades')\n",
      "Card(rank='4', suit='spades')\n",
      "Card(rank='5', suit='spades')\n",
      "Card(rank='6', suit='spades')\n"
     ]
    }
   ],
   "source": [
    "# The deck is also iterable by implementing the __getitem__ special method\n",
    "for card in deck[:5]:\n",
    "    print(card)"
   ]
  },
  {
   "cell_type": "code",
   "execution_count": 13,
   "metadata": {},
   "outputs": [
    {
     "name": "stdout",
     "output_type": "stream",
     "text": [
      "Card(rank='6', suit='spades')\n",
      "Card(rank='5', suit='spades')\n",
      "Card(rank='4', suit='spades')\n",
      "Card(rank='3', suit='spades')\n",
      "Card(rank='2', suit='spades')\n"
     ]
    }
   ],
   "source": [
    "# Iterate the deck in reverse\n",
    "for card in reversed(deck[:5]):\n",
    "    print(card)"
   ]
  },
  {
   "cell_type": "code",
   "execution_count": 14,
   "metadata": {},
   "outputs": [
    {
     "data": {
      "text/plain": [
       "True"
      ]
     },
     "execution_count": 14,
     "metadata": {},
     "output_type": "execute_result"
    }
   ],
   "source": [
    "# Since the deck is iterable, \"in\" works with the FrenchDeck class instances\n",
    "Card('Q', 'hearts') in deck"
   ]
  },
  {
   "cell_type": "code",
   "execution_count": 15,
   "metadata": {},
   "outputs": [
    {
     "data": {
      "text/plain": [
       "False"
      ]
     },
     "execution_count": 15,
     "metadata": {},
     "output_type": "execute_result"
    }
   ],
   "source": [
    "Card('A', 'mike') in deck"
   ]
  },
  {
   "cell_type": "code",
   "execution_count": 16,
   "metadata": {},
   "outputs": [],
   "source": [
    "# Sort the deck ranking by spades, hearts, diamonds, then clubs\n",
    "\n",
    "suit_values = dict(spades=3, hearts=2, diamonds=1, clubs=0)\n",
    "\n",
    "def spades_high(card):\n",
    "    rank_value = FrenchDeck.ranks.index(card.rank)\n",
    "    return rank_value * len(suit_values) + suit_values[card.suit]"
   ]
  },
  {
   "cell_type": "code",
   "execution_count": 17,
   "metadata": {},
   "outputs": [
    {
     "name": "stdout",
     "output_type": "stream",
     "text": [
      "Card: Card(rank='2', suit='clubs') \n",
      "Rank: 0\n",
      "Card: Card(rank='2', suit='diamonds') \n",
      "Rank: 1\n",
      "Card: Card(rank='2', suit='hearts') \n",
      "Rank: 2\n",
      "Card: Card(rank='2', suit='spades') \n",
      "Rank: 3\n",
      "Card: Card(rank='3', suit='clubs') \n",
      "Rank: 4\n",
      "Card: Card(rank='3', suit='diamonds') \n",
      "Rank: 5\n",
      "Card: Card(rank='3', suit='hearts') \n",
      "Rank: 6\n",
      "Card: Card(rank='3', suit='spades') \n",
      "Rank: 7\n",
      "Card: Card(rank='4', suit='clubs') \n",
      "Rank: 8\n",
      "Card: Card(rank='4', suit='diamonds') \n",
      "Rank: 9\n",
      "Card: Card(rank='4', suit='hearts') \n",
      "Rank: 10\n",
      "Card: Card(rank='4', suit='spades') \n",
      "Rank: 11\n",
      "Card: Card(rank='5', suit='clubs') \n",
      "Rank: 12\n",
      "Card: Card(rank='5', suit='diamonds') \n",
      "Rank: 13\n",
      "Card: Card(rank='5', suit='hearts') \n",
      "Rank: 14\n",
      "Card: Card(rank='5', suit='spades') \n",
      "Rank: 15\n",
      "Card: Card(rank='6', suit='clubs') \n",
      "Rank: 16\n",
      "Card: Card(rank='6', suit='diamonds') \n",
      "Rank: 17\n",
      "Card: Card(rank='6', suit='hearts') \n",
      "Rank: 18\n",
      "Card: Card(rank='6', suit='spades') \n",
      "Rank: 19\n",
      "Card: Card(rank='7', suit='clubs') \n",
      "Rank: 20\n",
      "Card: Card(rank='7', suit='diamonds') \n",
      "Rank: 21\n",
      "Card: Card(rank='7', suit='hearts') \n",
      "Rank: 22\n",
      "Card: Card(rank='7', suit='spades') \n",
      "Rank: 23\n",
      "Card: Card(rank='8', suit='clubs') \n",
      "Rank: 24\n",
      "Card: Card(rank='8', suit='diamonds') \n",
      "Rank: 25\n",
      "Card: Card(rank='8', suit='hearts') \n",
      "Rank: 26\n",
      "Card: Card(rank='8', suit='spades') \n",
      "Rank: 27\n",
      "Card: Card(rank='9', suit='clubs') \n",
      "Rank: 28\n",
      "Card: Card(rank='9', suit='diamonds') \n",
      "Rank: 29\n",
      "Card: Card(rank='9', suit='hearts') \n",
      "Rank: 30\n",
      "Card: Card(rank='9', suit='spades') \n",
      "Rank: 31\n",
      "Card: Card(rank='10', suit='clubs') \n",
      "Rank: 32\n",
      "Card: Card(rank='10', suit='diamonds') \n",
      "Rank: 33\n",
      "Card: Card(rank='10', suit='hearts') \n",
      "Rank: 34\n",
      "Card: Card(rank='10', suit='spades') \n",
      "Rank: 35\n",
      "Card: Card(rank='J', suit='clubs') \n",
      "Rank: 36\n",
      "Card: Card(rank='J', suit='diamonds') \n",
      "Rank: 37\n",
      "Card: Card(rank='J', suit='hearts') \n",
      "Rank: 38\n",
      "Card: Card(rank='J', suit='spades') \n",
      "Rank: 39\n",
      "Card: Card(rank='Q', suit='clubs') \n",
      "Rank: 40\n",
      "Card: Card(rank='Q', suit='diamonds') \n",
      "Rank: 41\n",
      "Card: Card(rank='Q', suit='hearts') \n",
      "Rank: 42\n",
      "Card: Card(rank='Q', suit='spades') \n",
      "Rank: 43\n",
      "Card: Card(rank='K', suit='clubs') \n",
      "Rank: 44\n",
      "Card: Card(rank='K', suit='diamonds') \n",
      "Rank: 45\n",
      "Card: Card(rank='K', suit='hearts') \n",
      "Rank: 46\n",
      "Card: Card(rank='K', suit='spades') \n",
      "Rank: 47\n",
      "Card: Card(rank='A', suit='clubs') \n",
      "Rank: 48\n",
      "Card: Card(rank='A', suit='diamonds') \n",
      "Rank: 49\n",
      "Card: Card(rank='A', suit='hearts') \n",
      "Rank: 50\n",
      "Card: Card(rank='A', suit='spades') \n",
      "Rank: 51\n"
     ]
    }
   ],
   "source": [
    "for card in sorted(deck, key=spades_high):\n",
    "    print(\"Card:\", card, \"\\nRank:\", spades_high(card))\n"
   ]
  }
 ],
 "metadata": {
  "kernelspec": {
   "display_name": "Python 3",
   "language": "python",
   "name": "python3"
  },
  "language_info": {
   "codemirror_mode": {
    "name": "ipython",
    "version": 3
   },
   "file_extension": ".py",
   "mimetype": "text/x-python",
   "name": "python",
   "nbconvert_exporter": "python",
   "pygments_lexer": "ipython3",
   "version": "3.6.8"
  }
 },
 "nbformat": 4,
 "nbformat_minor": 2
}
