{
 "cells": [
  {
   "cell_type": "code",
   "execution_count": 1,
   "metadata": {},
   "outputs": [],
   "source": [
    "from random import randint\n",
    "\n",
    "class Die():\n",
    "    \"\"\"A class representing a single die.\"\"\"\n",
    "    \n",
    "    def __init__(self, num_sides=6):\n",
    "        self.num_sides = num_sides\n",
    "    \n",
    "        self.my_rolls = []\n",
    "        \n",
    "    def roll(self):\n",
    "        return randint(1, self.num_sides)\n",
    "        \n",
    "    def multi_roll(self, num_rolls=1):\n",
    "        for roll in range(num_rolls):\n",
    "            current_roll = randint(1, self.num_sides)\n",
    "            self.my_rolls.append(current_roll)\n",
    "        return self.my_rolls"
   ]
  },
  {
   "cell_type": "code",
   "execution_count": 2,
   "metadata": {},
   "outputs": [
    {
     "data": {
      "text/plain": [
       "9"
      ]
     },
     "execution_count": 2,
     "metadata": {},
     "output_type": "execute_result"
    }
   ],
   "source": [
    "# Instantiate a 12-sided die\n",
    "d = Die(12)\n",
    "\n",
    "# Test out one roll\n",
    "d.roll()"
   ]
  },
  {
   "cell_type": "code",
   "execution_count": 3,
   "metadata": {},
   "outputs": [
    {
     "data": {
      "text/plain": [
       "[(1, 402),\n",
       " (2, 398),\n",
       " (3, 408),\n",
       " (4, 415),\n",
       " (5, 459),\n",
       " (6, 440),\n",
       " (7, 423),\n",
       " (8, 406),\n",
       " (9, 411),\n",
       " (10, 397),\n",
       " (11, 435),\n",
       " (12, 406)]"
      ]
     },
     "execution_count": 3,
     "metadata": {},
     "output_type": "execute_result"
    }
   ],
   "source": [
    "# Create a list of 5000 rolls\n",
    "results = d.multi_roll(5000)\n",
    "\n",
    "# Use this if multi_roll function didn't exist\n",
    "# results = [d.roll() for i in range(5000)]\n",
    "\n",
    "# Use the Counter tool to see the distribution of rolls\n",
    "from collections import Counter\n",
    "\n",
    "cnt = Counter()\n",
    "for num in results:\n",
    "    cnt[num] += 1\n",
    "\n",
    "sorted(cnt.items())\n",
    "\n",
    "# sorted_results = sorted(zip(cnt.values(), cnt.keys()))\n",
    "# sorted_results"
   ]
  },
  {
   "cell_type": "code",
   "execution_count": 4,
   "metadata": {},
   "outputs": [
    {
     "data": {
      "text/plain": [
       "[402, 398, 408, 415, 459, 440, 423, 406, 411, 397, 435, 406]"
      ]
     },
     "execution_count": 4,
     "metadata": {},
     "output_type": "execute_result"
    }
   ],
   "source": [
    "# Another way to see the distribution\n",
    "frequencies = []\n",
    "for value in range(1, d.num_sides+1):\n",
    "    freq = results.count(value)\n",
    "    frequencies.append(freq)\n",
    "frequencies"
   ]
  },
  {
   "cell_type": "code",
   "execution_count": 5,
   "metadata": {},
   "outputs": [
    {
     "data": {
      "image/svg+xml": [
       "<svg class=\"pygal-chart\" id=\"chart-2c42eb94-3bce-4207-a580-169229a4f5eb\" viewBox=\"0 0 800 600\" xmlns=\"http://www.w3.org/2000/svg\" xmlns:xlink=\"http://www.w3.org/1999/xlink\"><!--Generated with pygal 2.4.0 (lxml) ©Kozea 2012-2016 on 2019-05-22--><!--http://pygal.org--><!--http://github.com/Kozea/pygal--><defs><style type=\"text/css\">#chart-2c42eb94-3bce-4207-a580-169229a4f5eb{-webkit-user-select:none;-webkit-font-smoothing:antialiased;font-family:Consolas,&quot;Liberation Mono&quot;,Menlo,Courier,monospace}#chart-2c42eb94-3bce-4207-a580-169229a4f5eb .title{font-family:Consolas,&quot;Liberation Mono&quot;,Menlo,Courier,monospace;font-size:16px}#chart-2c42eb94-3bce-4207-a580-169229a4f5eb .legends .legend text{font-family:Consolas,&quot;Liberation Mono&quot;,Menlo,Courier,monospace;font-size:14px}#chart-2c42eb94-3bce-4207-a580-169229a4f5eb .axis text{font-family:Consolas,&quot;Liberation Mono&quot;,Menlo,Courier,monospace;font-size:10px}#chart-2c42eb94-3bce-4207-a580-169229a4f5eb .axis text.major{font-family:Consolas,&quot;Liberation Mono&quot;,Menlo,Courier,monospace;font-size:10px}#chart-2c42eb94-3bce-4207-a580-169229a4f5eb .text-overlay text.value{font-family:Consolas,&quot;Liberation Mono&quot;,Menlo,Courier,monospace;font-size:16px}#chart-2c42eb94-3bce-4207-a580-169229a4f5eb .text-overlay text.label{font-family:Consolas,&quot;Liberation Mono&quot;,Menlo,Courier,monospace;font-size:10px}#chart-2c42eb94-3bce-4207-a580-169229a4f5eb .tooltip{font-family:Consolas,&quot;Liberation Mono&quot;,Menlo,Courier,monospace;font-size:14px}#chart-2c42eb94-3bce-4207-a580-169229a4f5eb text.no_data{font-family:Consolas,&quot;Liberation Mono&quot;,Menlo,Courier,monospace;font-size:64px}\n",
       "#chart-2c42eb94-3bce-4207-a580-169229a4f5eb{background-color:rgba(249,249,249,1)}#chart-2c42eb94-3bce-4207-a580-169229a4f5eb path,#chart-2c42eb94-3bce-4207-a580-169229a4f5eb line,#chart-2c42eb94-3bce-4207-a580-169229a4f5eb rect,#chart-2c42eb94-3bce-4207-a580-169229a4f5eb circle{-webkit-transition:150ms;-moz-transition:150ms;transition:150ms}#chart-2c42eb94-3bce-4207-a580-169229a4f5eb .graph &gt; .background{fill:rgba(249,249,249,1)}#chart-2c42eb94-3bce-4207-a580-169229a4f5eb .plot &gt; .background{fill:rgba(255,255,255,1)}#chart-2c42eb94-3bce-4207-a580-169229a4f5eb .graph{fill:rgba(0,0,0,.87)}#chart-2c42eb94-3bce-4207-a580-169229a4f5eb text.no_data{fill:rgba(0,0,0,1)}#chart-2c42eb94-3bce-4207-a580-169229a4f5eb .title{fill:rgba(0,0,0,1)}#chart-2c42eb94-3bce-4207-a580-169229a4f5eb .legends .legend text{fill:rgba(0,0,0,.87)}#chart-2c42eb94-3bce-4207-a580-169229a4f5eb .legends .legend:hover text{fill:rgba(0,0,0,1)}#chart-2c42eb94-3bce-4207-a580-169229a4f5eb .axis .line{stroke:rgba(0,0,0,1)}#chart-2c42eb94-3bce-4207-a580-169229a4f5eb .axis .guide.line{stroke:rgba(0,0,0,.54)}#chart-2c42eb94-3bce-4207-a580-169229a4f5eb .axis .major.line{stroke:rgba(0,0,0,.87)}#chart-2c42eb94-3bce-4207-a580-169229a4f5eb .axis text.major{fill:rgba(0,0,0,1)}#chart-2c42eb94-3bce-4207-a580-169229a4f5eb .axis.y .guides:hover .guide.line,#chart-2c42eb94-3bce-4207-a580-169229a4f5eb .line-graph .axis.x .guides:hover .guide.line,#chart-2c42eb94-3bce-4207-a580-169229a4f5eb .stackedline-graph .axis.x .guides:hover .guide.line,#chart-2c42eb94-3bce-4207-a580-169229a4f5eb .xy-graph .axis.x .guides:hover .guide.line{stroke:rgba(0,0,0,1)}#chart-2c42eb94-3bce-4207-a580-169229a4f5eb .axis .guides:hover text{fill:rgba(0,0,0,1)}#chart-2c42eb94-3bce-4207-a580-169229a4f5eb .reactive{fill-opacity:.7;stroke-opacity:.8}#chart-2c42eb94-3bce-4207-a580-169229a4f5eb .ci{stroke:rgba(0,0,0,.87)}#chart-2c42eb94-3bce-4207-a580-169229a4f5eb .reactive.active,#chart-2c42eb94-3bce-4207-a580-169229a4f5eb .active .reactive{fill-opacity:.8;stroke-opacity:.9;stroke-width:4}#chart-2c42eb94-3bce-4207-a580-169229a4f5eb .ci .reactive.active{stroke-width:1.5}#chart-2c42eb94-3bce-4207-a580-169229a4f5eb .series text{fill:rgba(0,0,0,1)}#chart-2c42eb94-3bce-4207-a580-169229a4f5eb .tooltip rect{fill:rgba(255,255,255,1);stroke:rgba(0,0,0,1);-webkit-transition:opacity 150ms;-moz-transition:opacity 150ms;transition:opacity 150ms}#chart-2c42eb94-3bce-4207-a580-169229a4f5eb .tooltip .label{fill:rgba(0,0,0,.87)}#chart-2c42eb94-3bce-4207-a580-169229a4f5eb .tooltip .label{fill:rgba(0,0,0,.87)}#chart-2c42eb94-3bce-4207-a580-169229a4f5eb .tooltip .legend{font-size:.8em;fill:rgba(0,0,0,.54)}#chart-2c42eb94-3bce-4207-a580-169229a4f5eb .tooltip .x_label{font-size:.6em;fill:rgba(0,0,0,1)}#chart-2c42eb94-3bce-4207-a580-169229a4f5eb .tooltip .xlink{font-size:.5em;text-decoration:underline}#chart-2c42eb94-3bce-4207-a580-169229a4f5eb .tooltip .value{font-size:1.5em}#chart-2c42eb94-3bce-4207-a580-169229a4f5eb .bound{font-size:.5em}#chart-2c42eb94-3bce-4207-a580-169229a4f5eb .max-value{font-size:.75em;fill:rgba(0,0,0,.54)}#chart-2c42eb94-3bce-4207-a580-169229a4f5eb .map-element{fill:rgba(255,255,255,1);stroke:rgba(0,0,0,.54) !important}#chart-2c42eb94-3bce-4207-a580-169229a4f5eb .map-element .reactive{fill-opacity:inherit;stroke-opacity:inherit}#chart-2c42eb94-3bce-4207-a580-169229a4f5eb .color-0,#chart-2c42eb94-3bce-4207-a580-169229a4f5eb .color-0 a:visited{stroke:#F44336;fill:#F44336}#chart-2c42eb94-3bce-4207-a580-169229a4f5eb .text-overlay .color-0 text{fill:black}\n",
       "#chart-2c42eb94-3bce-4207-a580-169229a4f5eb text.no_data{text-anchor:middle}#chart-2c42eb94-3bce-4207-a580-169229a4f5eb .guide.line{fill:none}#chart-2c42eb94-3bce-4207-a580-169229a4f5eb .centered{text-anchor:middle}#chart-2c42eb94-3bce-4207-a580-169229a4f5eb .title{text-anchor:middle}#chart-2c42eb94-3bce-4207-a580-169229a4f5eb .legends .legend text{fill-opacity:1}#chart-2c42eb94-3bce-4207-a580-169229a4f5eb .axis.x text{text-anchor:middle}#chart-2c42eb94-3bce-4207-a580-169229a4f5eb .axis.x:not(.web) text[transform]{text-anchor:start}#chart-2c42eb94-3bce-4207-a580-169229a4f5eb .axis.x:not(.web) text[transform].backwards{text-anchor:end}#chart-2c42eb94-3bce-4207-a580-169229a4f5eb .axis.y text{text-anchor:end}#chart-2c42eb94-3bce-4207-a580-169229a4f5eb .axis.y text[transform].backwards{text-anchor:start}#chart-2c42eb94-3bce-4207-a580-169229a4f5eb .axis.y2 text{text-anchor:start}#chart-2c42eb94-3bce-4207-a580-169229a4f5eb .axis.y2 text[transform].backwards{text-anchor:end}#chart-2c42eb94-3bce-4207-a580-169229a4f5eb .axis .guide.line{stroke-dasharray:4,4}#chart-2c42eb94-3bce-4207-a580-169229a4f5eb .axis .major.guide.line{stroke-dasharray:6,6}#chart-2c42eb94-3bce-4207-a580-169229a4f5eb .horizontal .axis.y .guide.line,#chart-2c42eb94-3bce-4207-a580-169229a4f5eb .horizontal .axis.y2 .guide.line,#chart-2c42eb94-3bce-4207-a580-169229a4f5eb .vertical .axis.x .guide.line{opacity:0}#chart-2c42eb94-3bce-4207-a580-169229a4f5eb .horizontal .axis.always_show .guide.line,#chart-2c42eb94-3bce-4207-a580-169229a4f5eb .vertical .axis.always_show .guide.line{opacity:1 !important}#chart-2c42eb94-3bce-4207-a580-169229a4f5eb .axis.y .guides:hover .guide.line,#chart-2c42eb94-3bce-4207-a580-169229a4f5eb .axis.y2 .guides:hover .guide.line,#chart-2c42eb94-3bce-4207-a580-169229a4f5eb .axis.x .guides:hover .guide.line{opacity:1}#chart-2c42eb94-3bce-4207-a580-169229a4f5eb .axis .guides:hover text{opacity:1}#chart-2c42eb94-3bce-4207-a580-169229a4f5eb .nofill{fill:none}#chart-2c42eb94-3bce-4207-a580-169229a4f5eb .subtle-fill{fill-opacity:.2}#chart-2c42eb94-3bce-4207-a580-169229a4f5eb .dot{stroke-width:1px;fill-opacity:1}#chart-2c42eb94-3bce-4207-a580-169229a4f5eb .dot.active{stroke-width:5px}#chart-2c42eb94-3bce-4207-a580-169229a4f5eb .dot.negative{fill:transparent}#chart-2c42eb94-3bce-4207-a580-169229a4f5eb text,#chart-2c42eb94-3bce-4207-a580-169229a4f5eb tspan{stroke:none !important}#chart-2c42eb94-3bce-4207-a580-169229a4f5eb .series text.active{opacity:1}#chart-2c42eb94-3bce-4207-a580-169229a4f5eb .tooltip rect{fill-opacity:.95;stroke-width:.5}#chart-2c42eb94-3bce-4207-a580-169229a4f5eb .tooltip text{fill-opacity:1}#chart-2c42eb94-3bce-4207-a580-169229a4f5eb .showable{visibility:hidden}#chart-2c42eb94-3bce-4207-a580-169229a4f5eb .showable.shown{visibility:visible}#chart-2c42eb94-3bce-4207-a580-169229a4f5eb .gauge-background{fill:rgba(229,229,229,1);stroke:none}#chart-2c42eb94-3bce-4207-a580-169229a4f5eb .bg-lines{stroke:rgba(249,249,249,1);stroke-width:2px}</style><script type=\"text/javascript\">window.pygal = window.pygal || {};window.pygal.config = window.pygal.config || {};window.pygal.config['2c42eb94-3bce-4207-a580-169229a4f5eb'] = {&quot;allow_interruptions&quot;: false, &quot;box_mode&quot;: &quot;extremes&quot;, &quot;classes&quot;: [&quot;pygal-chart&quot;], &quot;css&quot;: [&quot;file://style.css&quot;, &quot;file://graph.css&quot;], &quot;defs&quot;: [], &quot;disable_xml_declaration&quot;: true, &quot;dots_size&quot;: 2.5, &quot;dynamic_print_values&quot;: false, &quot;explicit_size&quot;: false, &quot;fill&quot;: false, &quot;force_uri_protocol&quot;: &quot;https&quot;, &quot;formatter&quot;: null, &quot;half_pie&quot;: false, &quot;height&quot;: 600, &quot;include_x_axis&quot;: false, &quot;inner_radius&quot;: 0, &quot;interpolate&quot;: null, &quot;interpolation_parameters&quot;: {}, &quot;interpolation_precision&quot;: 250, &quot;inverse_y_axis&quot;: false, &quot;js&quot;: [&quot;//kozea.github.io/pygal.js/2.0.x/pygal-tooltips.min.js&quot;], &quot;legend_at_bottom&quot;: false, &quot;legend_at_bottom_columns&quot;: null, &quot;legend_box_size&quot;: 12, &quot;logarithmic&quot;: false, &quot;margin&quot;: 20, &quot;margin_bottom&quot;: null, &quot;margin_left&quot;: null, &quot;margin_right&quot;: null, &quot;margin_top&quot;: null, &quot;max_scale&quot;: 16, &quot;min_scale&quot;: 4, &quot;missing_value_fill_truncation&quot;: &quot;x&quot;, &quot;no_data_text&quot;: &quot;No data&quot;, &quot;no_prefix&quot;: false, &quot;order_min&quot;: null, &quot;pretty_print&quot;: false, &quot;print_labels&quot;: false, &quot;print_values&quot;: false, &quot;print_values_position&quot;: &quot;center&quot;, &quot;print_zeroes&quot;: true, &quot;range&quot;: null, &quot;rounded_bars&quot;: null, &quot;secondary_range&quot;: null, &quot;show_dots&quot;: true, &quot;show_legend&quot;: true, &quot;show_minor_x_labels&quot;: true, &quot;show_minor_y_labels&quot;: true, &quot;show_only_major_dots&quot;: false, &quot;show_x_guides&quot;: false, &quot;show_x_labels&quot;: true, &quot;show_y_guides&quot;: true, &quot;show_y_labels&quot;: true, &quot;spacing&quot;: 10, &quot;stack_from_top&quot;: false, &quot;strict&quot;: false, &quot;stroke&quot;: true, &quot;stroke_style&quot;: null, &quot;style&quot;: {&quot;background&quot;: &quot;rgba(249, 249, 249, 1)&quot;, &quot;ci_colors&quot;: [], &quot;colors&quot;: [&quot;#F44336&quot;, &quot;#3F51B5&quot;, &quot;#009688&quot;, &quot;#FFC107&quot;, &quot;#FF5722&quot;, &quot;#9C27B0&quot;, &quot;#03A9F4&quot;, &quot;#8BC34A&quot;, &quot;#FF9800&quot;, &quot;#E91E63&quot;, &quot;#2196F3&quot;, &quot;#4CAF50&quot;, &quot;#FFEB3B&quot;, &quot;#673AB7&quot;, &quot;#00BCD4&quot;, &quot;#CDDC39&quot;, &quot;#9E9E9E&quot;, &quot;#607D8B&quot;], &quot;font_family&quot;: &quot;Consolas, \\&quot;Liberation Mono\\&quot;, Menlo, Courier, monospace&quot;, &quot;foreground&quot;: &quot;rgba(0, 0, 0, .87)&quot;, &quot;foreground_strong&quot;: &quot;rgba(0, 0, 0, 1)&quot;, &quot;foreground_subtle&quot;: &quot;rgba(0, 0, 0, .54)&quot;, &quot;guide_stroke_dasharray&quot;: &quot;4,4&quot;, &quot;label_font_family&quot;: &quot;Consolas, \\&quot;Liberation Mono\\&quot;, Menlo, Courier, monospace&quot;, &quot;label_font_size&quot;: 10, &quot;legend_font_family&quot;: &quot;Consolas, \\&quot;Liberation Mono\\&quot;, Menlo, Courier, monospace&quot;, &quot;legend_font_size&quot;: 14, &quot;major_guide_stroke_dasharray&quot;: &quot;6,6&quot;, &quot;major_label_font_family&quot;: &quot;Consolas, \\&quot;Liberation Mono\\&quot;, Menlo, Courier, monospace&quot;, &quot;major_label_font_size&quot;: 10, &quot;no_data_font_family&quot;: &quot;Consolas, \\&quot;Liberation Mono\\&quot;, Menlo, Courier, monospace&quot;, &quot;no_data_font_size&quot;: 64, &quot;opacity&quot;: &quot;.7&quot;, &quot;opacity_hover&quot;: &quot;.8&quot;, &quot;plot_background&quot;: &quot;rgba(255, 255, 255, 1)&quot;, &quot;stroke_opacity&quot;: &quot;.8&quot;, &quot;stroke_opacity_hover&quot;: &quot;.9&quot;, &quot;title_font_family&quot;: &quot;Consolas, \\&quot;Liberation Mono\\&quot;, Menlo, Courier, monospace&quot;, &quot;title_font_size&quot;: 16, &quot;tooltip_font_family&quot;: &quot;Consolas, \\&quot;Liberation Mono\\&quot;, Menlo, Courier, monospace&quot;, &quot;tooltip_font_size&quot;: 14, &quot;transition&quot;: &quot;150ms&quot;, &quot;value_background&quot;: &quot;rgba(229, 229, 229, 1)&quot;, &quot;value_colors&quot;: [], &quot;value_font_family&quot;: &quot;Consolas, \\&quot;Liberation Mono\\&quot;, Menlo, Courier, monospace&quot;, &quot;value_font_size&quot;: 16, &quot;value_label_font_family&quot;: &quot;Consolas, \\&quot;Liberation Mono\\&quot;, Menlo, Courier, monospace&quot;, &quot;value_label_font_size&quot;: 10}, &quot;title&quot;: &quot;12-Sided Die Results&quot;, &quot;tooltip_border_radius&quot;: 0, &quot;tooltip_fancy_mode&quot;: true, &quot;truncate_label&quot;: null, &quot;truncate_legend&quot;: null, &quot;width&quot;: 800, &quot;x_label_rotation&quot;: 0, &quot;x_labels&quot;: [1, 2, 3, 4, 5, 6, 7, 8, 9, 10, 11, 12], &quot;x_labels_major&quot;: null, &quot;x_labels_major_count&quot;: null, &quot;x_labels_major_every&quot;: null, &quot;x_title&quot;: &quot;Result&quot;, &quot;xrange&quot;: null, &quot;y_label_rotation&quot;: 0, &quot;y_labels&quot;: null, &quot;y_labels_major&quot;: null, &quot;y_labels_major_count&quot;: null, &quot;y_labels_major_every&quot;: null, &quot;y_title&quot;: &quot;Frequency of Result&quot;, &quot;zero&quot;: 0, &quot;legends&quot;: [&quot;D12&quot;]}</script><script type=\"text/javascript\" xlink:href=\"https://kozea.github.io/pygal.js/2.0.x/pygal-tooltips.min.js\"/></defs><title>12-Sided Die Results</title><g class=\"graph bar-graph vertical\"><rect class=\"background\" height=\"600\" width=\"800\" x=\"0\" y=\"0\"/><g class=\"plot\" transform=\"translate(121, 46)\"><rect class=\"background\" height=\"488\" width=\"658.8\" x=\"0\" y=\"0\"/><g class=\"axis y always_show\"><g class=\"guides\"><path class=\"axis major line\" d=\"M0.000000 478.615385 h658.800000\"/><text class=\"major\" x=\"-5\" y=\"482.11538461538464\">0</text><title>0</title></g><g class=\"guides\"><path class=\"guide line\" d=\"M0.000000 376.386459 h658.800000\"/><text class=\"\" x=\"-5\" y=\"379.8864588570471\">100</text><title>100</title></g><g class=\"guides\"><path class=\"guide line\" d=\"M0.000000 274.157533 h658.800000\"/><text class=\"\" x=\"-5\" y=\"277.65753309870956\">200</text><title>200</title></g><g class=\"guides\"><path class=\"guide line\" d=\"M0.000000 171.928607 h658.800000\"/><text class=\"\" x=\"-5\" y=\"175.42860734037208\">300</text><title>300</title></g><g class=\"guides\"><path class=\"guide line\" d=\"M0.000000 69.699682 h658.800000\"/><text class=\"\" x=\"-5\" y=\"73.19968158203454\">400</text><title>400</title></g></g><g class=\"axis x\"><path class=\"line\" d=\"M0.000000 0.000000 v488.000000\"/><g class=\"guides\"><path class=\"guide line\" d=\"M39.063462 0.000000 v488.000000\"/><text class=\"\" x=\"39.06346153846153\" y=\"503.0\">1</text></g><g class=\"guides\"><path class=\"guide line\" d=\"M91.851923 0.000000 v488.000000\"/><text class=\"\" x=\"91.85192307692306\" y=\"503.0\">2</text></g><g class=\"guides\"><path class=\"guide line\" d=\"M144.640385 0.000000 v488.000000\"/><text class=\"\" x=\"144.6403846153846\" y=\"503.0\">3</text></g><g class=\"guides\"><path class=\"guide line\" d=\"M197.428846 0.000000 v488.000000\"/><text class=\"\" x=\"197.42884615384617\" y=\"503.0\">4</text></g><g class=\"guides\"><path class=\"guide line\" d=\"M250.217308 0.000000 v488.000000\"/><text class=\"\" x=\"250.21730769230768\" y=\"503.0\">5</text></g><g class=\"guides\"><path class=\"guide line\" d=\"M303.005769 0.000000 v488.000000\"/><text class=\"\" x=\"303.0057692307692\" y=\"503.0\">6</text></g><g class=\"guides\"><path class=\"guide line\" d=\"M355.794231 0.000000 v488.000000\"/><text class=\"\" x=\"355.7942307692307\" y=\"503.0\">7</text></g><g class=\"guides\"><path class=\"guide line\" d=\"M408.582692 0.000000 v488.000000\"/><text class=\"\" x=\"408.5826923076923\" y=\"503.0\">8</text></g><g class=\"guides\"><path class=\"guide line\" d=\"M461.371154 0.000000 v488.000000\"/><text class=\"\" x=\"461.37115384615385\" y=\"503.0\">9</text></g><g class=\"guides\"><path class=\"guide line\" d=\"M514.159615 0.000000 v488.000000\"/><text class=\"\" x=\"514.1596153846153\" y=\"503.0\">10</text></g><g class=\"guides\"><path class=\"guide line\" d=\"M566.948077 0.000000 v488.000000\"/><text class=\"\" x=\"566.9480769230769\" y=\"503.0\">11</text></g><g class=\"guides\"><path class=\"guide line\" d=\"M619.736538 0.000000 v488.000000\"/><text class=\"\" x=\"619.7365384615384\" y=\"503.0\">12</text></g></g><g class=\"series serie-0 color-0\"><g class=\"bars\"><g class=\"bar\"><rect class=\"rect reactive tooltip-trigger\" height=\"410.96028154851683\" rx=\"0\" ry=\"0\" width=\"40.879384615384616\" x=\"18.62376923076923\" y=\"67.65510306686781\"/><desc class=\"value\">402</desc><desc class=\"x centered\">39.06346153846154</desc><desc class=\"y centered\">273.1352438411262</desc><desc class=\"x_label\">1</desc></g><g class=\"bar\"><rect class=\"rect reactive tooltip-trigger\" height=\"406.87112451818336\" rx=\"0\" ry=\"0\" width=\"40.879384615384616\" x=\"71.41223076923076\" y=\"71.74426009720128\"/><desc class=\"value\">398</desc><desc class=\"x centered\">91.85192307692307</desc><desc class=\"y centered\">275.17982235629296</desc><desc class=\"x_label\">2</desc></g><g class=\"bar\"><rect class=\"rect reactive tooltip-trigger\" height=\"417.0940170940171\" rx=\"0\" ry=\"0\" width=\"40.879384615384616\" x=\"124.2006923076923\" y=\"61.52136752136755\"/><desc class=\"value\">408</desc><desc class=\"x centered\">144.6403846153846</desc><desc class=\"y centered\">270.0683760683761</desc><desc class=\"x_label\">3</desc></g><g class=\"bar\"><rect class=\"rect reactive tooltip-trigger\" height=\"424.25004189710074\" rx=\"0\" ry=\"0\" width=\"40.879384615384616\" x=\"176.98915384615387\" y=\"54.3653427182839\"/><desc class=\"value\">415</desc><desc class=\"x centered\">197.42884615384617</desc><desc class=\"y centered\">266.49036366683424</desc><desc class=\"x_label\">4</desc></g><g class=\"bar\"><rect class=\"rect reactive tooltip-trigger\" height=\"469.2307692307692\" rx=\"0\" ry=\"0\" width=\"40.879384615384616\" x=\"229.7776153846154\" y=\"9.384615384615415\"/><desc class=\"value\">459</desc><desc class=\"x centered\">250.21730769230768</desc><desc class=\"y centered\">244.00000000000003</desc><desc class=\"x_label\">5</desc></g><g class=\"bar\"><rect class=\"rect reactive tooltip-trigger\" height=\"449.8072733366851\" rx=\"0\" ry=\"0\" width=\"40.879384615384616\" x=\"282.5660769230769\" y=\"28.808111278699528\"/><desc class=\"value\">440</desc><desc class=\"x centered\">303.0057692307692</desc><desc class=\"y centered\">253.71174794704208</desc><desc class=\"x_label\">6</desc></g><g class=\"bar\"><rect class=\"rect reactive tooltip-trigger\" height=\"432.42835595776774\" rx=\"0\" ry=\"0\" width=\"40.879384615384616\" x=\"335.3545384615384\" y=\"46.18702865761691\"/><desc class=\"value\">423</desc><desc class=\"x centered\">355.79423076923075</desc><desc class=\"y centered\">262.4012066365008</desc><desc class=\"x_label\">7</desc></g><g class=\"bar\"><rect class=\"rect reactive tooltip-trigger\" height=\"415.04943857885036\" rx=\"0\" ry=\"0\" width=\"40.879384615384616\" x=\"388.143\" y=\"63.565946036534285\"/><desc class=\"value\">406</desc><desc class=\"x centered\">408.5826923076923</desc><desc class=\"y centered\">271.09066532595943</desc><desc class=\"x_label\">8</desc></g><g class=\"bar\"><rect class=\"rect reactive tooltip-trigger\" height=\"420.1608848667672\" rx=\"0\" ry=\"0\" width=\"40.879384615384616\" x=\"440.93146153846146\" y=\"58.45449974861742\"/><desc class=\"value\">411</desc><desc class=\"x centered\">461.3711538461538</desc><desc class=\"y centered\">268.53494218200103</desc><desc class=\"x_label\">9</desc></g><g class=\"bar\"><rect class=\"rect reactive tooltip-trigger\" height=\"405.84883526059997\" rx=\"0\" ry=\"0\" width=\"40.879384615384616\" x=\"493.719923076923\" y=\"72.76654935478467\"/><desc class=\"value\">397</desc><desc class=\"x centered\">514.1596153846153</desc><desc class=\"y centered\">275.69096698508463</desc><desc class=\"x_label\">10</desc></g><g class=\"bar\"><rect class=\"rect reactive tooltip-trigger\" height=\"444.69582704876825\" rx=\"0\" ry=\"0\" width=\"40.879384615384616\" x=\"546.5083846153846\" y=\"33.91955756661639\"/><desc class=\"value\">435</desc><desc class=\"x centered\">566.9480769230769</desc><desc class=\"y centered\">256.2674710910005</desc><desc class=\"x_label\">11</desc></g><g class=\"bar\"><rect class=\"rect reactive tooltip-trigger\" height=\"415.04943857885036\" rx=\"0\" ry=\"0\" width=\"40.879384615384616\" x=\"599.296846153846\" y=\"63.565946036534285\"/><desc class=\"value\">406</desc><desc class=\"x centered\">619.7365384615383</desc><desc class=\"y centered\">271.09066532595943</desc><desc class=\"x_label\">12</desc></g></g></g></g><g class=\"titles\"><text class=\"title plot_title\" x=\"400.0\" y=\"26\">12-Sided Die Results</text><text class=\"title\" x=\"450.59999999999997\" y=\"580\">Result</text><text class=\"title\" transform=\"rotate(-90 47.200000 290.000000)\" x=\"47.199999999999996\" y=\"316.0\">Frequency of Result</text></g><g class=\"plot overlay\" transform=\"translate(121, 46)\"><g class=\"series serie-0 color-0\"/></g><g class=\"plot text-overlay\" transform=\"translate(121, 46)\"><g class=\"series serie-0 color-0\"/></g><g class=\"plot tooltip-overlay\" transform=\"translate(121, 46)\"><g class=\"tooltip\" style=\"opacity: 0\" transform=\"translate(0 0)\"><rect class=\"tooltip-box\" height=\"0\" rx=\"0\" ry=\"0\" width=\"0\"/><g class=\"text\"/></g></g><g class=\"legends\" transform=\"translate(10, 56)\"><g class=\"legend reactive activate-serie\" id=\"activate-serie-0\"><rect class=\"color-0 reactive\" height=\"12\" width=\"12\" x=\"0.0\" y=\"1.0\"/><text x=\"17.0\" y=\"11.2\">D12</text></g></g><g class=\"legends\" transform=\"translate(790, 56)\"/></g></svg>"
      ],
      "text/plain": [
       "<IPython.core.display.SVG object>"
      ]
     },
     "metadata": {},
     "output_type": "display_data"
    }
   ],
   "source": [
    "import pygal\n",
    "from IPython.display import SVG, display\n",
    "\n",
    "# Visualize results\n",
    "hist = pygal.Bar()\n",
    "\n",
    "hist.title = f'{d.num_sides}-Sided Die Results'\n",
    "hist.x_labels = list(range(1, d.num_sides+1))\n",
    "hist.x_title = 'Result'\n",
    "hist.y_title = 'Frequency of Result'\n",
    "\n",
    "hist.add(f'D{d.num_sides}', frequencies)\n",
    "display(SVG(hist.render(disable_xml_declaration=True)))\n",
    "\n",
    "# hist.render_to_file('die_visual.svg')"
   ]
  },
  {
   "cell_type": "code",
   "execution_count": 6,
   "metadata": {},
   "outputs": [
    {
     "data": {
      "text/plain": [
       "6"
      ]
     },
     "execution_count": 6,
     "metadata": {},
     "output_type": "execute_result"
    }
   ],
   "source": [
    "# Roll 2 dice\n",
    "def roll_two(x, y):\n",
    "    global die_1\n",
    "    die_1 = Die(x)\n",
    "    global die_2\n",
    "    die_2 = Die(y)\n",
    "    result_1 = die_1.roll()\n",
    "    result_2 = die_2.roll()\n",
    "    return result_1 + result_2\n",
    "\n",
    "# Test out a roll with 2 six-sided die\n",
    "roll_two(6, 6)"
   ]
  },
  {
   "cell_type": "code",
   "execution_count": 7,
   "metadata": {},
   "outputs": [],
   "source": [
    "results = [roll_two(6, 6) for i in range(5000)]\n",
    "results\n",
    "\n",
    "max_roll = die_1.num_sides + die_2.num_sides\n",
    "\n",
    "frequencies = []\n",
    "for value in range(2, max_roll+1):\n",
    "    freq = results.count(value)\n",
    "    frequencies.append(freq)"
   ]
  },
  {
   "cell_type": "code",
   "execution_count": 8,
   "metadata": {},
   "outputs": [
    {
     "data": {
      "image/svg+xml": [
       "<svg class=\"pygal-chart\" id=\"chart-80a896a8-7c37-4cf9-94e4-9536a1460fd3\" viewBox=\"0 0 800 600\" xmlns=\"http://www.w3.org/2000/svg\" xmlns:xlink=\"http://www.w3.org/1999/xlink\"><!--Generated with pygal 2.4.0 (lxml) ©Kozea 2012-2016 on 2019-05-22--><!--http://pygal.org--><!--http://github.com/Kozea/pygal--><defs><style type=\"text/css\">#chart-80a896a8-7c37-4cf9-94e4-9536a1460fd3{-webkit-user-select:none;-webkit-font-smoothing:antialiased;font-family:Consolas,&quot;Liberation Mono&quot;,Menlo,Courier,monospace}#chart-80a896a8-7c37-4cf9-94e4-9536a1460fd3 .title{font-family:Consolas,&quot;Liberation Mono&quot;,Menlo,Courier,monospace;font-size:16px}#chart-80a896a8-7c37-4cf9-94e4-9536a1460fd3 .legends .legend text{font-family:Consolas,&quot;Liberation Mono&quot;,Menlo,Courier,monospace;font-size:14px}#chart-80a896a8-7c37-4cf9-94e4-9536a1460fd3 .axis text{font-family:Consolas,&quot;Liberation Mono&quot;,Menlo,Courier,monospace;font-size:10px}#chart-80a896a8-7c37-4cf9-94e4-9536a1460fd3 .axis text.major{font-family:Consolas,&quot;Liberation Mono&quot;,Menlo,Courier,monospace;font-size:10px}#chart-80a896a8-7c37-4cf9-94e4-9536a1460fd3 .text-overlay text.value{font-family:Consolas,&quot;Liberation Mono&quot;,Menlo,Courier,monospace;font-size:16px}#chart-80a896a8-7c37-4cf9-94e4-9536a1460fd3 .text-overlay text.label{font-family:Consolas,&quot;Liberation Mono&quot;,Menlo,Courier,monospace;font-size:10px}#chart-80a896a8-7c37-4cf9-94e4-9536a1460fd3 .tooltip{font-family:Consolas,&quot;Liberation Mono&quot;,Menlo,Courier,monospace;font-size:14px}#chart-80a896a8-7c37-4cf9-94e4-9536a1460fd3 text.no_data{font-family:Consolas,&quot;Liberation Mono&quot;,Menlo,Courier,monospace;font-size:64px}\n",
       "#chart-80a896a8-7c37-4cf9-94e4-9536a1460fd3{background-color:rgba(249,249,249,1)}#chart-80a896a8-7c37-4cf9-94e4-9536a1460fd3 path,#chart-80a896a8-7c37-4cf9-94e4-9536a1460fd3 line,#chart-80a896a8-7c37-4cf9-94e4-9536a1460fd3 rect,#chart-80a896a8-7c37-4cf9-94e4-9536a1460fd3 circle{-webkit-transition:150ms;-moz-transition:150ms;transition:150ms}#chart-80a896a8-7c37-4cf9-94e4-9536a1460fd3 .graph &gt; .background{fill:rgba(249,249,249,1)}#chart-80a896a8-7c37-4cf9-94e4-9536a1460fd3 .plot &gt; .background{fill:rgba(255,255,255,1)}#chart-80a896a8-7c37-4cf9-94e4-9536a1460fd3 .graph{fill:rgba(0,0,0,.87)}#chart-80a896a8-7c37-4cf9-94e4-9536a1460fd3 text.no_data{fill:rgba(0,0,0,1)}#chart-80a896a8-7c37-4cf9-94e4-9536a1460fd3 .title{fill:rgba(0,0,0,1)}#chart-80a896a8-7c37-4cf9-94e4-9536a1460fd3 .legends .legend text{fill:rgba(0,0,0,.87)}#chart-80a896a8-7c37-4cf9-94e4-9536a1460fd3 .legends .legend:hover text{fill:rgba(0,0,0,1)}#chart-80a896a8-7c37-4cf9-94e4-9536a1460fd3 .axis .line{stroke:rgba(0,0,0,1)}#chart-80a896a8-7c37-4cf9-94e4-9536a1460fd3 .axis .guide.line{stroke:rgba(0,0,0,.54)}#chart-80a896a8-7c37-4cf9-94e4-9536a1460fd3 .axis .major.line{stroke:rgba(0,0,0,.87)}#chart-80a896a8-7c37-4cf9-94e4-9536a1460fd3 .axis text.major{fill:rgba(0,0,0,1)}#chart-80a896a8-7c37-4cf9-94e4-9536a1460fd3 .axis.y .guides:hover .guide.line,#chart-80a896a8-7c37-4cf9-94e4-9536a1460fd3 .line-graph .axis.x .guides:hover .guide.line,#chart-80a896a8-7c37-4cf9-94e4-9536a1460fd3 .stackedline-graph .axis.x .guides:hover .guide.line,#chart-80a896a8-7c37-4cf9-94e4-9536a1460fd3 .xy-graph .axis.x .guides:hover .guide.line{stroke:rgba(0,0,0,1)}#chart-80a896a8-7c37-4cf9-94e4-9536a1460fd3 .axis .guides:hover text{fill:rgba(0,0,0,1)}#chart-80a896a8-7c37-4cf9-94e4-9536a1460fd3 .reactive{fill-opacity:.7;stroke-opacity:.8}#chart-80a896a8-7c37-4cf9-94e4-9536a1460fd3 .ci{stroke:rgba(0,0,0,.87)}#chart-80a896a8-7c37-4cf9-94e4-9536a1460fd3 .reactive.active,#chart-80a896a8-7c37-4cf9-94e4-9536a1460fd3 .active .reactive{fill-opacity:.8;stroke-opacity:.9;stroke-width:4}#chart-80a896a8-7c37-4cf9-94e4-9536a1460fd3 .ci .reactive.active{stroke-width:1.5}#chart-80a896a8-7c37-4cf9-94e4-9536a1460fd3 .series text{fill:rgba(0,0,0,1)}#chart-80a896a8-7c37-4cf9-94e4-9536a1460fd3 .tooltip rect{fill:rgba(255,255,255,1);stroke:rgba(0,0,0,1);-webkit-transition:opacity 150ms;-moz-transition:opacity 150ms;transition:opacity 150ms}#chart-80a896a8-7c37-4cf9-94e4-9536a1460fd3 .tooltip .label{fill:rgba(0,0,0,.87)}#chart-80a896a8-7c37-4cf9-94e4-9536a1460fd3 .tooltip .label{fill:rgba(0,0,0,.87)}#chart-80a896a8-7c37-4cf9-94e4-9536a1460fd3 .tooltip .legend{font-size:.8em;fill:rgba(0,0,0,.54)}#chart-80a896a8-7c37-4cf9-94e4-9536a1460fd3 .tooltip .x_label{font-size:.6em;fill:rgba(0,0,0,1)}#chart-80a896a8-7c37-4cf9-94e4-9536a1460fd3 .tooltip .xlink{font-size:.5em;text-decoration:underline}#chart-80a896a8-7c37-4cf9-94e4-9536a1460fd3 .tooltip .value{font-size:1.5em}#chart-80a896a8-7c37-4cf9-94e4-9536a1460fd3 .bound{font-size:.5em}#chart-80a896a8-7c37-4cf9-94e4-9536a1460fd3 .max-value{font-size:.75em;fill:rgba(0,0,0,.54)}#chart-80a896a8-7c37-4cf9-94e4-9536a1460fd3 .map-element{fill:rgba(255,255,255,1);stroke:rgba(0,0,0,.54) !important}#chart-80a896a8-7c37-4cf9-94e4-9536a1460fd3 .map-element .reactive{fill-opacity:inherit;stroke-opacity:inherit}#chart-80a896a8-7c37-4cf9-94e4-9536a1460fd3 .color-0,#chart-80a896a8-7c37-4cf9-94e4-9536a1460fd3 .color-0 a:visited{stroke:#F44336;fill:#F44336}#chart-80a896a8-7c37-4cf9-94e4-9536a1460fd3 .text-overlay .color-0 text{fill:black}\n",
       "#chart-80a896a8-7c37-4cf9-94e4-9536a1460fd3 text.no_data{text-anchor:middle}#chart-80a896a8-7c37-4cf9-94e4-9536a1460fd3 .guide.line{fill:none}#chart-80a896a8-7c37-4cf9-94e4-9536a1460fd3 .centered{text-anchor:middle}#chart-80a896a8-7c37-4cf9-94e4-9536a1460fd3 .title{text-anchor:middle}#chart-80a896a8-7c37-4cf9-94e4-9536a1460fd3 .legends .legend text{fill-opacity:1}#chart-80a896a8-7c37-4cf9-94e4-9536a1460fd3 .axis.x text{text-anchor:middle}#chart-80a896a8-7c37-4cf9-94e4-9536a1460fd3 .axis.x:not(.web) text[transform]{text-anchor:start}#chart-80a896a8-7c37-4cf9-94e4-9536a1460fd3 .axis.x:not(.web) text[transform].backwards{text-anchor:end}#chart-80a896a8-7c37-4cf9-94e4-9536a1460fd3 .axis.y text{text-anchor:end}#chart-80a896a8-7c37-4cf9-94e4-9536a1460fd3 .axis.y text[transform].backwards{text-anchor:start}#chart-80a896a8-7c37-4cf9-94e4-9536a1460fd3 .axis.y2 text{text-anchor:start}#chart-80a896a8-7c37-4cf9-94e4-9536a1460fd3 .axis.y2 text[transform].backwards{text-anchor:end}#chart-80a896a8-7c37-4cf9-94e4-9536a1460fd3 .axis .guide.line{stroke-dasharray:4,4}#chart-80a896a8-7c37-4cf9-94e4-9536a1460fd3 .axis .major.guide.line{stroke-dasharray:6,6}#chart-80a896a8-7c37-4cf9-94e4-9536a1460fd3 .horizontal .axis.y .guide.line,#chart-80a896a8-7c37-4cf9-94e4-9536a1460fd3 .horizontal .axis.y2 .guide.line,#chart-80a896a8-7c37-4cf9-94e4-9536a1460fd3 .vertical .axis.x .guide.line{opacity:0}#chart-80a896a8-7c37-4cf9-94e4-9536a1460fd3 .horizontal .axis.always_show .guide.line,#chart-80a896a8-7c37-4cf9-94e4-9536a1460fd3 .vertical .axis.always_show .guide.line{opacity:1 !important}#chart-80a896a8-7c37-4cf9-94e4-9536a1460fd3 .axis.y .guides:hover .guide.line,#chart-80a896a8-7c37-4cf9-94e4-9536a1460fd3 .axis.y2 .guides:hover .guide.line,#chart-80a896a8-7c37-4cf9-94e4-9536a1460fd3 .axis.x .guides:hover .guide.line{opacity:1}#chart-80a896a8-7c37-4cf9-94e4-9536a1460fd3 .axis .guides:hover text{opacity:1}#chart-80a896a8-7c37-4cf9-94e4-9536a1460fd3 .nofill{fill:none}#chart-80a896a8-7c37-4cf9-94e4-9536a1460fd3 .subtle-fill{fill-opacity:.2}#chart-80a896a8-7c37-4cf9-94e4-9536a1460fd3 .dot{stroke-width:1px;fill-opacity:1}#chart-80a896a8-7c37-4cf9-94e4-9536a1460fd3 .dot.active{stroke-width:5px}#chart-80a896a8-7c37-4cf9-94e4-9536a1460fd3 .dot.negative{fill:transparent}#chart-80a896a8-7c37-4cf9-94e4-9536a1460fd3 text,#chart-80a896a8-7c37-4cf9-94e4-9536a1460fd3 tspan{stroke:none !important}#chart-80a896a8-7c37-4cf9-94e4-9536a1460fd3 .series text.active{opacity:1}#chart-80a896a8-7c37-4cf9-94e4-9536a1460fd3 .tooltip rect{fill-opacity:.95;stroke-width:.5}#chart-80a896a8-7c37-4cf9-94e4-9536a1460fd3 .tooltip text{fill-opacity:1}#chart-80a896a8-7c37-4cf9-94e4-9536a1460fd3 .showable{visibility:hidden}#chart-80a896a8-7c37-4cf9-94e4-9536a1460fd3 .showable.shown{visibility:visible}#chart-80a896a8-7c37-4cf9-94e4-9536a1460fd3 .gauge-background{fill:rgba(229,229,229,1);stroke:none}#chart-80a896a8-7c37-4cf9-94e4-9536a1460fd3 .bg-lines{stroke:rgba(249,249,249,1);stroke-width:2px}</style><script type=\"text/javascript\">window.pygal = window.pygal || {};window.pygal.config = window.pygal.config || {};window.pygal.config['80a896a8-7c37-4cf9-94e4-9536a1460fd3'] = {&quot;allow_interruptions&quot;: false, &quot;box_mode&quot;: &quot;extremes&quot;, &quot;classes&quot;: [&quot;pygal-chart&quot;], &quot;css&quot;: [&quot;file://style.css&quot;, &quot;file://graph.css&quot;], &quot;defs&quot;: [], &quot;disable_xml_declaration&quot;: true, &quot;dots_size&quot;: 2.5, &quot;dynamic_print_values&quot;: false, &quot;explicit_size&quot;: false, &quot;fill&quot;: false, &quot;force_uri_protocol&quot;: &quot;https&quot;, &quot;formatter&quot;: null, &quot;half_pie&quot;: false, &quot;height&quot;: 600, &quot;include_x_axis&quot;: false, &quot;inner_radius&quot;: 0, &quot;interpolate&quot;: null, &quot;interpolation_parameters&quot;: {}, &quot;interpolation_precision&quot;: 250, &quot;inverse_y_axis&quot;: false, &quot;js&quot;: [&quot;//kozea.github.io/pygal.js/2.0.x/pygal-tooltips.min.js&quot;], &quot;legend_at_bottom&quot;: false, &quot;legend_at_bottom_columns&quot;: null, &quot;legend_box_size&quot;: 12, &quot;logarithmic&quot;: false, &quot;margin&quot;: 20, &quot;margin_bottom&quot;: null, &quot;margin_left&quot;: null, &quot;margin_right&quot;: null, &quot;margin_top&quot;: null, &quot;max_scale&quot;: 16, &quot;min_scale&quot;: 4, &quot;missing_value_fill_truncation&quot;: &quot;x&quot;, &quot;no_data_text&quot;: &quot;No data&quot;, &quot;no_prefix&quot;: false, &quot;order_min&quot;: null, &quot;pretty_print&quot;: false, &quot;print_labels&quot;: false, &quot;print_values&quot;: false, &quot;print_values_position&quot;: &quot;center&quot;, &quot;print_zeroes&quot;: true, &quot;range&quot;: null, &quot;rounded_bars&quot;: null, &quot;secondary_range&quot;: null, &quot;show_dots&quot;: true, &quot;show_legend&quot;: true, &quot;show_minor_x_labels&quot;: true, &quot;show_minor_y_labels&quot;: true, &quot;show_only_major_dots&quot;: false, &quot;show_x_guides&quot;: false, &quot;show_x_labels&quot;: true, &quot;show_y_guides&quot;: true, &quot;show_y_labels&quot;: true, &quot;spacing&quot;: 10, &quot;stack_from_top&quot;: false, &quot;strict&quot;: false, &quot;stroke&quot;: true, &quot;stroke_style&quot;: null, &quot;style&quot;: {&quot;background&quot;: &quot;rgba(249, 249, 249, 1)&quot;, &quot;ci_colors&quot;: [], &quot;colors&quot;: [&quot;#F44336&quot;, &quot;#3F51B5&quot;, &quot;#009688&quot;, &quot;#FFC107&quot;, &quot;#FF5722&quot;, &quot;#9C27B0&quot;, &quot;#03A9F4&quot;, &quot;#8BC34A&quot;, &quot;#FF9800&quot;, &quot;#E91E63&quot;, &quot;#2196F3&quot;, &quot;#4CAF50&quot;, &quot;#FFEB3B&quot;, &quot;#673AB7&quot;, &quot;#00BCD4&quot;, &quot;#CDDC39&quot;, &quot;#9E9E9E&quot;, &quot;#607D8B&quot;], &quot;font_family&quot;: &quot;Consolas, \\&quot;Liberation Mono\\&quot;, Menlo, Courier, monospace&quot;, &quot;foreground&quot;: &quot;rgba(0, 0, 0, .87)&quot;, &quot;foreground_strong&quot;: &quot;rgba(0, 0, 0, 1)&quot;, &quot;foreground_subtle&quot;: &quot;rgba(0, 0, 0, .54)&quot;, &quot;guide_stroke_dasharray&quot;: &quot;4,4&quot;, &quot;label_font_family&quot;: &quot;Consolas, \\&quot;Liberation Mono\\&quot;, Menlo, Courier, monospace&quot;, &quot;label_font_size&quot;: 10, &quot;legend_font_family&quot;: &quot;Consolas, \\&quot;Liberation Mono\\&quot;, Menlo, Courier, monospace&quot;, &quot;legend_font_size&quot;: 14, &quot;major_guide_stroke_dasharray&quot;: &quot;6,6&quot;, &quot;major_label_font_family&quot;: &quot;Consolas, \\&quot;Liberation Mono\\&quot;, Menlo, Courier, monospace&quot;, &quot;major_label_font_size&quot;: 10, &quot;no_data_font_family&quot;: &quot;Consolas, \\&quot;Liberation Mono\\&quot;, Menlo, Courier, monospace&quot;, &quot;no_data_font_size&quot;: 64, &quot;opacity&quot;: &quot;.7&quot;, &quot;opacity_hover&quot;: &quot;.8&quot;, &quot;plot_background&quot;: &quot;rgba(255, 255, 255, 1)&quot;, &quot;stroke_opacity&quot;: &quot;.8&quot;, &quot;stroke_opacity_hover&quot;: &quot;.9&quot;, &quot;title_font_family&quot;: &quot;Consolas, \\&quot;Liberation Mono\\&quot;, Menlo, Courier, monospace&quot;, &quot;title_font_size&quot;: 16, &quot;tooltip_font_family&quot;: &quot;Consolas, \\&quot;Liberation Mono\\&quot;, Menlo, Courier, monospace&quot;, &quot;tooltip_font_size&quot;: 14, &quot;transition&quot;: &quot;150ms&quot;, &quot;value_background&quot;: &quot;rgba(229, 229, 229, 1)&quot;, &quot;value_colors&quot;: [], &quot;value_font_family&quot;: &quot;Consolas, \\&quot;Liberation Mono\\&quot;, Menlo, Courier, monospace&quot;, &quot;value_font_size&quot;: 16, &quot;value_label_font_family&quot;: &quot;Consolas, \\&quot;Liberation Mono\\&quot;, Menlo, Courier, monospace&quot;, &quot;value_label_font_size&quot;: 10}, &quot;title&quot;: &quot;Results for Max Roll 12&quot;, &quot;tooltip_border_radius&quot;: 0, &quot;tooltip_fancy_mode&quot;: true, &quot;truncate_label&quot;: null, &quot;truncate_legend&quot;: null, &quot;width&quot;: 800, &quot;x_label_rotation&quot;: 0, &quot;x_labels&quot;: [2, 3, 4, 5, 6, 7, 8, 9, 10, 11, 12], &quot;x_labels_major&quot;: null, &quot;x_labels_major_count&quot;: null, &quot;x_labels_major_every&quot;: null, &quot;x_title&quot;: &quot;Result&quot;, &quot;xrange&quot;: null, &quot;y_label_rotation&quot;: 0, &quot;y_labels&quot;: null, &quot;y_labels_major&quot;: null, &quot;y_labels_major_count&quot;: null, &quot;y_labels_major_every&quot;: null, &quot;y_title&quot;: &quot;Frequency of Result&quot;, &quot;zero&quot;: 0, &quot;legends&quot;: [&quot;D12&quot;]}</script><script type=\"text/javascript\" xlink:href=\"https://kozea.github.io/pygal.js/2.0.x/pygal-tooltips.min.js\"/></defs><title>Results for Max Roll 12</title><g class=\"graph bar-graph vertical\"><rect class=\"background\" height=\"600\" width=\"800\" x=\"0\" y=\"0\"/><g class=\"plot\" transform=\"translate(121, 46)\"><rect class=\"background\" height=\"488\" width=\"658.8\" x=\"0\" y=\"0\"/><g class=\"axis y always_show\"><g class=\"guides\"><path class=\"axis major line\" d=\"M0.000000 478.615385 h658.800000\"/><text class=\"major\" x=\"-5\" y=\"482.11538461538464\">0</text><title>0</title></g><g class=\"guides\"><path class=\"guide line\" d=\"M0.000000 423.150755 h658.800000\"/><text class=\"\" x=\"-5\" y=\"426.6507546826696\">100</text><title>100</title></g><g class=\"guides\"><path class=\"guide line\" d=\"M0.000000 367.686125 h658.800000\"/><text class=\"\" x=\"-5\" y=\"371.1861247499545\">200</text><title>200</title></g><g class=\"guides\"><path class=\"guide line\" d=\"M0.000000 312.221495 h658.800000\"/><text class=\"\" x=\"-5\" y=\"315.72149481723943\">300</text><title>300</title></g><g class=\"guides\"><path class=\"guide line\" d=\"M0.000000 256.756865 h658.800000\"/><text class=\"\" x=\"-5\" y=\"260.2568648845244\">400</text><title>400</title></g><g class=\"guides\"><path class=\"major guide line\" d=\"M0.000000 201.292235 h658.800000\"/><text class=\"major\" x=\"-5\" y=\"204.7922349518094\">500</text><title>500</title></g><g class=\"guides\"><path class=\"guide line\" d=\"M0.000000 145.827605 h658.800000\"/><text class=\"\" x=\"-5\" y=\"149.3276050190944\">600</text><title>600</title></g><g class=\"guides\"><path class=\"guide line\" d=\"M0.000000 90.362975 h658.800000\"/><text class=\"\" x=\"-5\" y=\"93.86297508637932\">700</text><title>700</title></g><g class=\"guides\"><path class=\"guide line\" d=\"M0.000000 34.898345 h658.800000\"/><text class=\"\" x=\"-5\" y=\"38.39834515366431\">800</text><title>800</title></g></g><g class=\"axis x\"><path class=\"line\" d=\"M0.000000 0.000000 v488.000000\"/><g class=\"guides\"><path class=\"guide line\" d=\"M41.462937 0.000000 v488.000000\"/><text class=\"\" x=\"41.462937062937065\" y=\"503.0\">2</text></g><g class=\"guides\"><path class=\"guide line\" d=\"M99.050350 0.000000 v488.000000\"/><text class=\"\" x=\"99.05034965034963\" y=\"503.0\">3</text></g><g class=\"guides\"><path class=\"guide line\" d=\"M156.637762 0.000000 v488.000000\"/><text class=\"\" x=\"156.63776223776222\" y=\"503.0\">4</text></g><g class=\"guides\"><path class=\"guide line\" d=\"M214.225175 0.000000 v488.000000\"/><text class=\"\" x=\"214.2251748251748\" y=\"503.0\">5</text></g><g class=\"guides\"><path class=\"guide line\" d=\"M271.812587 0.000000 v488.000000\"/><text class=\"\" x=\"271.81258741258745\" y=\"503.0\">6</text></g><g class=\"guides\"><path class=\"guide line\" d=\"M329.400000 0.000000 v488.000000\"/><text class=\"\" x=\"329.4\" y=\"503.0\">7</text></g><g class=\"guides\"><path class=\"guide line\" d=\"M386.987413 0.000000 v488.000000\"/><text class=\"\" x=\"386.98741258741256\" y=\"503.0\">8</text></g><g class=\"guides\"><path class=\"guide line\" d=\"M444.574825 0.000000 v488.000000\"/><text class=\"\" x=\"444.5748251748251\" y=\"503.0\">9</text></g><g class=\"guides\"><path class=\"guide line\" d=\"M502.162238 0.000000 v488.000000\"/><text class=\"\" x=\"502.16223776223774\" y=\"503.0\">10</text></g><g class=\"guides\"><path class=\"guide line\" d=\"M559.749650 0.000000 v488.000000\"/><text class=\"\" x=\"559.7496503496503\" y=\"503.0\">11</text></g><g class=\"guides\"><path class=\"guide line\" d=\"M617.337063 0.000000 v488.000000\"/><text class=\"\" x=\"617.3370629370629\" y=\"503.0\">12</text></g></g><g class=\"series serie-0 color-0\"><g class=\"bars\"><g class=\"bar\"><rect class=\"rect reactive tooltip-trigger\" height=\"77.65048190580109\" rx=\"0\" ry=\"0\" width=\"44.5956923076923\" x=\"19.16509090909091\" y=\"400.96490270958355\"/><desc class=\"value\">140</desc><desc class=\"x centered\">41.46293706293706</desc><desc class=\"y centered\">439.79014366248407</desc><desc class=\"x_label\">2</desc></g><g class=\"bar\"><rect class=\"rect reactive tooltip-trigger\" height=\"158.62884160756505\" rx=\"0\" ry=\"0\" width=\"44.5956923076923\" x=\"76.75250349650348\" y=\"319.9865430078196\"/><desc class=\"value\">286</desc><desc class=\"x centered\">99.05034965034963</desc><desc class=\"y centered\">399.3009638116021</desc><desc class=\"x_label\">3</desc></g><g class=\"bar\"><rect class=\"rect reactive tooltip-trigger\" height=\"247.37224949990917\" rx=\"0\" ry=\"0\" width=\"44.5956923076923\" x=\"134.33991608391608\" y=\"231.24313511547547\"/><desc class=\"value\">446</desc><desc class=\"x centered\">156.63776223776222</desc><desc class=\"y centered\">354.92925986543</desc><desc class=\"x_label\">4</desc></g><g class=\"bar\"><rect class=\"rect reactive tooltip-trigger\" height=\"285.6428441534825\" rx=\"0\" ry=\"0\" width=\"44.5956923076923\" x=\"191.92732867132867\" y=\"192.97254046190216\"/><desc class=\"value\">515</desc><desc class=\"x centered\">214.2251748251748</desc><desc class=\"y centered\">335.7939625386434</desc><desc class=\"x_label\">5</desc></g><g class=\"bar\"><rect class=\"rect reactive tooltip-trigger\" height=\"377.71412984178943\" rx=\"0\" ry=\"0\" width=\"44.5956923076923\" x=\"249.51474125874128\" y=\"100.90125477359521\"/><desc class=\"value\">681</desc><desc class=\"x centered\">271.81258741258745</desc><desc class=\"y centered\">289.75831969448996</desc><desc class=\"x_label\">6</desc></g><g class=\"bar\"><rect class=\"rect reactive tooltip-trigger\" height=\"469.2307692307693\" rx=\"0\" ry=\"0\" width=\"44.5956923076923\" x=\"307.1021538461538\" y=\"9.384615384615358\"/><desc class=\"value\">846</desc><desc class=\"x centered\">329.3999999999999</desc><desc class=\"y centered\">244.0</desc><desc class=\"x_label\">7</desc></g><g class=\"bar\"><rect class=\"rect reactive tooltip-trigger\" height=\"388.2524095290053\" rx=\"0\" ry=\"0\" width=\"44.5956923076923\" x=\"364.6895664335663\" y=\"90.36297508637932\"/><desc class=\"value\">700</desc><desc class=\"x centered\">386.98741258741245</desc><desc class=\"y centered\">284.489179850882</desc><desc class=\"x_label\">8</desc></g><g class=\"bar\"><rect class=\"rect reactive tooltip-trigger\" height=\"296.1811238406983\" rx=\"0\" ry=\"0\" width=\"44.5956923076923\" x=\"422.27697902097896\" y=\"182.43426077468632\"/><desc class=\"value\">534</desc><desc class=\"x centered\">444.5748251748251</desc><desc class=\"y centered\">330.5248226950355</desc><desc class=\"x_label\">9</desc></g><g class=\"bar\"><rect class=\"rect reactive tooltip-trigger\" height=\"246.81760320058197\" rx=\"0\" ry=\"0\" width=\"44.5956923076923\" x=\"479.86439160839154\" y=\"231.79778141480267\"/><desc class=\"value\">445</desc><desc class=\"x centered\">502.1622377622377</desc><desc class=\"y centered\">355.20658301509366</desc><desc class=\"x_label\">10</desc></g><g class=\"bar\"><rect class=\"rect reactive tooltip-trigger\" height=\"150.863793416985\" rx=\"0\" ry=\"0\" width=\"44.5956923076923\" x=\"537.4518041958042\" y=\"327.75159119839964\"/><desc class=\"value\">272</desc><desc class=\"x centered\">559.7496503496504</desc><desc class=\"y centered\">403.18348790689214</desc><desc class=\"x_label\">11</desc></g><g class=\"bar\"><rect class=\"rect reactive tooltip-trigger\" height=\"74.87725040916536\" rx=\"0\" ry=\"0\" width=\"44.5956923076923\" x=\"595.0392167832167\" y=\"403.7381342062193\"/><desc class=\"value\">135</desc><desc class=\"x centered\">617.3370629370629</desc><desc class=\"y centered\">441.176759410802</desc><desc class=\"x_label\">12</desc></g></g></g></g><g class=\"titles\"><text class=\"title plot_title\" x=\"400.0\" y=\"26\">Results for Max Roll 12</text><text class=\"title\" x=\"450.59999999999997\" y=\"580\">Result</text><text class=\"title\" transform=\"rotate(-90 47.200000 290.000000)\" x=\"47.199999999999996\" y=\"316.0\">Frequency of Result</text></g><g class=\"plot overlay\" transform=\"translate(121, 46)\"><g class=\"series serie-0 color-0\"/></g><g class=\"plot text-overlay\" transform=\"translate(121, 46)\"><g class=\"series serie-0 color-0\"/></g><g class=\"plot tooltip-overlay\" transform=\"translate(121, 46)\"><g class=\"tooltip\" style=\"opacity: 0\" transform=\"translate(0 0)\"><rect class=\"tooltip-box\" height=\"0\" rx=\"0\" ry=\"0\" width=\"0\"/><g class=\"text\"/></g></g><g class=\"legends\" transform=\"translate(10, 56)\"><g class=\"legend reactive activate-serie\" id=\"activate-serie-0\"><rect class=\"color-0 reactive\" height=\"12\" width=\"12\" x=\"0.0\" y=\"1.0\"/><text x=\"17.0\" y=\"11.2\">D12</text></g></g><g class=\"legends\" transform=\"translate(790, 56)\"/></g></svg>"
      ],
      "text/plain": [
       "<IPython.core.display.SVG object>"
      ]
     },
     "metadata": {},
     "output_type": "display_data"
    }
   ],
   "source": [
    "# Visualize results\n",
    "hist = pygal.Bar()\n",
    "\n",
    "hist.title = f'Results for Max Roll {max_roll}'\n",
    "hist.x_labels = list(range(2, max_roll+1))\n",
    "hist.x_title = 'Result'\n",
    "hist.y_title = 'Frequency of Result'\n",
    "\n",
    "hist.add(f'D{max_roll}', frequencies)\n",
    "display(SVG(hist.render(disable_xml_declaration=True)))"
   ]
  }
 ],
 "metadata": {
  "kernelspec": {
   "display_name": "Python 3",
   "language": "python",
   "name": "python3"
  },
  "language_info": {
   "codemirror_mode": {
    "name": "ipython",
    "version": 3
   },
   "file_extension": ".py",
   "mimetype": "text/x-python",
   "name": "python",
   "nbconvert_exporter": "python",
   "pygments_lexer": "ipython3",
   "version": "3.6.8"
  }
 },
 "nbformat": 4,
 "nbformat_minor": 2
}
